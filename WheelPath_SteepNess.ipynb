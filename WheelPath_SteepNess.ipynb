{
 "cells": [
  {
   "cell_type": "code",
   "execution_count": null,
   "metadata": {},
   "outputs": [],
   "source": [
    "# import libraries\n",
    "\n",
    "import pygeoj\n",
    "import json\n",
    "import pandas as pd\n",
    "import numpy as np"
   ]
  },
  {
   "cell_type": "code",
   "execution_count": null,
   "metadata": {},
   "outputs": [],
   "source": [
    "# read the source data which is named as fs\n",
    "testfile = pygeoj.load(\"fs.geojson\")\n",
    "\n",
    "# define initial counter with size greated than estimated rows which we could get from source data site\n",
    "maxlen=34000\n",
    "\n",
    "# initialize dataframe\n",
    "df = pd.DataFrame(np.full((maxlen, 2), np.nan),columns = ['counter','coordinates'])\n",
    "\n",
    "i=0\n",
    "for feature in testfile:\n",
    "    y = feature.geometry.coordinates\n",
    "    z = feature.properties\n",
    "    string_1 = json.dumps(y)\n",
    "    string_2 = json.dumps(z)\n",
    "    df['counter'][i] = string_2\n",
    "    df['coordinates'][i] = string_1\n",
    "    i+=1\n",
    "    if i%5000 == 0:\n",
    "        print(i)"
   ]
  },
  {
   "cell_type": "code",
   "execution_count": null,
   "metadata": {},
   "outputs": [],
   "source": [
    "# save the file as csv to do manual checks\n",
    "df.to_csv('hitntrial.csv')"
   ]
  },
  {
   "cell_type": "markdown",
   "metadata": {},
   "source": [
    "# Once the following steps are done then only only run below codes"
   ]
  },
  {
   "cell_type": "markdown",
   "metadata": {},
   "source": [
    "##### 1. In excel we have 2 columns, for column 1, use formulas of substring to select Gradientpc numerical values\n",
    "##### 2. Delete any observation where text goes to column C\n",
    "##### 3. Delete all observations where gradientpc is not defined properly i.e. which is not a number"
   ]
  },
  {
   "cell_type": "code",
   "execution_count": null,
   "metadata": {},
   "outputs": [],
   "source": [
    "df = pd.read_csv(\"hitntrial.csv\")"
   ]
  },
  {
   "cell_type": "code",
   "execution_count": null,
   "metadata": {},
   "outputs": [],
   "source": [
    "# drop non steep roads\n",
    "df = df[df[\"Gradientpc\"] >= 10]\n",
    "\n",
    "# Derive primary key\n",
    "df = df.reset_index()\n",
    "df['PrimaryKey'] = df.index + 1\n",
    "df['PrimaryKey'] = \"F\"+df.PrimaryKey.map(str)"
   ]
  },
  {
   "cell_type": "code",
   "execution_count": null,
   "metadata": {},
   "outputs": [],
   "source": [
    "# Derive Steepness flags\n",
    "\n",
    "df['SteepFlag'] = np.where(df['Gradientpc']>=50, 'Level 3', 'Level 2')\n",
    "\n",
    "for i in range(len(df)):  \n",
    "    if df['Gradientpc'][i] >=50:  \n",
    "        df['SteepFlag'][i] = 3\n",
    "    else:\n",
    "        df['SteepFlag'][i] = 2\n",
    "        \n",
    "for i in range(len(df)):  \n",
    "    if df['Gradientpc'][i] <=25:  \n",
    "        df['SteepFlag'][i] = 1\n",
    "\n",
    "# drop unwanted columns        \n",
    "df = df.drop(['index','Gradientpc'], axis=1)"
   ]
  },
  {
   "cell_type": "code",
   "execution_count": null,
   "metadata": {},
   "outputs": [],
   "source": [
    "j = df.set_index('PrimaryKey').to_json(orient='index')"
   ]
  },
  {
   "cell_type": "code",
   "execution_count": null,
   "metadata": {},
   "outputs": [],
   "source": [
    "# Write the dataframe to the JSON file\n",
    "with open(\"SteepNess.json\", \"w\") as text_file:\n",
    "    text_file.write(\"{}\".format(j))"
   ]
  }
 ],
 "metadata": {
  "kernelspec": {
   "display_name": "Python 2",
   "language": "python",
   "name": "python2"
  },
  "language_info": {
   "codemirror_mode": {
    "name": "ipython",
    "version": 2
   },
   "file_extension": ".py",
   "mimetype": "text/x-python",
   "name": "python",
   "nbconvert_exporter": "python",
   "pygments_lexer": "ipython2",
   "version": "2.7.15"
  }
 },
 "nbformat": 4,
 "nbformat_minor": 2
}
