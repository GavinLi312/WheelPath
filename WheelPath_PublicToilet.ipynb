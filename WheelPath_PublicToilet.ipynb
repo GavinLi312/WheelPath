{
 "cells": [
  {
   "cell_type": "code",
   "execution_count": 1,
   "metadata": {},
   "outputs": [],
   "source": [
    "# import libraries\n",
    "import pandas as pd\n",
    "import numpy as np"
   ]
  },
  {
   "cell_type": "code",
   "execution_count": 2,
   "metadata": {},
   "outputs": [
    {
     "name": "stderr",
     "output_type": "stream",
     "text": [
      "C:\\Users\\RakeshOM\\AppData\\Local\\Continuum\\anaconda2\\lib\\site-packages\\IPython\\core\\interactiveshell.py:2714: DtypeWarning: Columns (13) have mixed types. Specify dtype option on import or set low_memory=False.\n",
      "  interactivity=interactivity, compiler=compiler, result=result)\n",
      "C:\\Users\\RakeshOM\\AppData\\Local\\Continuum\\anaconda2\\lib\\site-packages\\ipykernel_launcher.py:33: SettingWithCopyWarning: \n",
      "A value is trying to be set on a copy of a slice from a DataFrame\n",
      "\n",
      "See the caveats in the documentation: http://pandas.pydata.org/pandas-docs/stable/indexing.html#indexing-view-versus-copy\n"
     ]
    }
   ],
   "source": [
    "# read source csv file, which is named as Public_toilet\n",
    "df = pd.read_csv(\"Public_toilet.csv\")\n",
    "\n",
    "# select public toilets in victoria\n",
    "df = df[df[\"State\"] == \"Victoria\"]\n",
    "\n",
    "# select public toilets located in melbourne CBD and some near monash caulfield\n",
    "df_1 = df.loc[df['Town'].isin(['Melbourne','Carlton', 'Flemington', 'Carlton North','South Yarra', \n",
    "                               'Southbank','Docklands','Port Melbourne','West Melbourne', \n",
    "                              'North Melbourne', 'Kensington', 'Parkville','Glen Iris','Caulfield','Caulfield South',\n",
    "                               'Caulfield East','Glen Huntly', 'Caulfield North', 'Malvern', 'Malvern East','Carnegie',\n",
    "                              'Ormond','Murrumbeena','Chadstone'])]\n",
    "\n",
    "# derive a primary key for the json file\n",
    "df_1 = df_1.reset_index()\n",
    "df_1['PrimaryKey'] = df_1.index + 1\n",
    "df_1['PrimaryKey'] = \"P\"+df_1.PrimaryKey.map(str)\n",
    "\n",
    "# Derive disabled flag for the toilets\n",
    "df_1['DisableFlag'] = np.where(df_1['IconAltText']=='Male and Female, or Unisex (Accessible)', 'Yes', 'No')\n",
    "\n",
    "# Derive details and do cleaning\n",
    "df_1 = df_1.fillna(\"Blank_tobereplaced\")\n",
    "df_1[\"Details\"] = df_1.IsOpen.str.cat(others=[df_1.OpeningHoursSchedule, df_1.OpeningHoursNote], sep=' ')\n",
    "df_1[\"Details\"] = df_1[\"Details\"].str.replace('Blank_tobereplaced',' ')\n",
    "df_1[\"Details\"] = df_1[\"Details\"].str.replace('Variable',' ')\n",
    "df_1[\"Details\"] = df_1[\"Details\"].str.replace('DaylightHours','Open DaylightHours')\n",
    "df_1[\"Details\"] = df_1[\"Details\"].str.replace('AllHours','Open All Hours')\n",
    "df_1.Details = df_1.Details.str.strip()\n",
    "\n",
    "for i in range(len(df_1)):  \n",
    "    if df_1['Details'][i] == '':  \n",
    "        df_1['Details'][i] = 'No Information Available'\n",
    "\n",
    "# drop unwanted columns\n",
    "df_2 = df_1.drop(['URL', 'Address1', 'IconURL', 'Status', 'State', 'ToiletID', 'Address1', \n",
    "                'Town', 'ToiletType', 'DumpPoint', 'Male', 'Female', 'Unisex', \n",
    "                'FacilityType', 'PaymentRequired','KeyRequired', 'Parking', 'ParkingNote', 'Notes',\n",
    "               'AccessLimited', 'AccessibleMale', 'AccessibleFemale', 'AccessibleUnisex', 'ParkingAccessible',\n",
    "               'AccessibleParkingNote', 'Ambulant', 'LHTransfer', 'MLAK', 'RHTransfer', 'AdultChange',\n",
    "               'ChangingPlaces','Postcode', 'index', 'AddressNote', 'AccessNote', 'AccessibleNote', \n",
    "                  'OpeningHoursNote', 'OpeningHoursSchedule','IconAltText', 'SanitaryDisposal', 'SharpsDisposal',\n",
    "                 'DrinkingWater', 'Showers','BabyChange','IsOpen'], axis=1)\n",
    "\n",
    "# Rename columns and derive category\n",
    "df_2 = df_2.rename(columns = {'Name':'Description'})\n",
    "df_2['Category'] = 'Public Toilet'\n",
    "\n",
    "# Arrange columns\n",
    "df_2 = df_2[['PrimaryKey', 'Description', 'Category','Latitude', 'Longitude', 'DisableFlag', 'Details']]"
   ]
  },
  {
   "cell_type": "code",
   "execution_count": 3,
   "metadata": {},
   "outputs": [],
   "source": [
    "j = df_2.set_index('PrimaryKey').to_json(orient='index')"
   ]
  },
  {
   "cell_type": "code",
   "execution_count": 4,
   "metadata": {},
   "outputs": [],
   "source": [
    "# save the dataframe to JSON file\n",
    "with open(\"public_toilet.json\", \"w\") as text_file:\n",
    "    text_file.write(\"{}\".format(j))"
   ]
  },
  {
   "cell_type": "code",
   "execution_count": null,
   "metadata": {},
   "outputs": [],
   "source": []
  }
 ],
 "metadata": {
  "kernelspec": {
   "display_name": "Python 2",
   "language": "python",
   "name": "python2"
  },
  "language_info": {
   "codemirror_mode": {
    "name": "ipython",
    "version": 2
   },
   "file_extension": ".py",
   "mimetype": "text/x-python",
   "name": "python",
   "nbconvert_exporter": "python",
   "pygments_lexer": "ipython2",
   "version": "2.7.15"
  }
 },
 "nbformat": 4,
 "nbformat_minor": 2
}
